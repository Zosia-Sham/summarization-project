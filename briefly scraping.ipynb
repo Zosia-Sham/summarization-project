{
 "cells": [
  {
   "cell_type": "markdown",
   "metadata": {},
   "source": [
    "# Scraping briefly.co"
   ]
  },
  {
   "cell_type": "code",
   "execution_count": 14,
   "metadata": {},
   "outputs": [],
   "source": [
    "import requests\n",
    "import json\n",
    "import time\n",
    "import random"
   ]
  },
  {
   "cell_type": "code",
   "execution_count": 16,
   "metadata": {},
   "outputs": [],
   "source": [
    "session = requests.Session()\n",
    "response = session.get('https://api.briefly.co/v1/anchors/popular?limit=30')\n",
    "anchors = response.json()\n",
    "users = set()\n",
    "for anch in anchors:\n",
    "    response = requests.get('https://api.briefly.co/v1/anchor/' + anch['id'] + '/leaderboard-streaks?mode=best&offset=0&limit=236')\n",
    "    leaderboard = response.json()\n",
    "    for l in leaderboard['leaders']:\n",
    "        users.add(l['user']['id'])"
   ]
  },
  {
   "cell_type": "code",
   "execution_count": 15,
   "metadata": {},
   "outputs": [],
   "source": [
    "def parse_post(user_id, post_id, post_title, post_highlights):\n",
    "    response = session.get('https://api.briefly.co/v1/post/' + post_id + '/sentences')\n",
    "    try:\n",
    "        response.raise_for_status()\n",
    "    except requests.exceptions.HTTPError:\n",
    "        return None\n",
    "    sents_from_api = [s for s in response.json() if s['type'] == 'text']\n",
    "    if len(post_highlights) < 3 or len(post_highlights) < len(sents_from_api) / 7:\n",
    "        return None\n",
    "    sents = []\n",
    "    for s in sents_from_api:\n",
    "        response = session.get('https://api.briefly.co/v1/sentence/' + s['id'])\n",
    "        sent_from_api = response.json()\n",
    "        sent = {\n",
    "            'id': sent_from_api['id'],\n",
    "            'text': sent_from_api['sentence'],\n",
    "            'highlighted': 'users' in sent_from_api and any(u for u in sent_from_api['users'] if u['id'] == user_id),\n",
    "            'sequence': sent_from_api['sequence'],\n",
    "            'paragraph': sent_from_api['paragraph']\n",
    "        }        \n",
    "        sents.append(sent)\n",
    "        \n",
    "    post = {\n",
    "        'id': post_id,\n",
    "        'title': post_title,\n",
    "        'highlighterUser': user_id,\n",
    "        'sentences': sents\n",
    "    }\n",
    "    return post"
   ]
  },
  {
   "cell_type": "code",
   "execution_count": 17,
   "metadata": {},
   "outputs": [
    {
     "name": "stdout",
     "output_type": "stream",
     "text": [
      "user 0\n",
      "user 100\n",
      "user 200\n",
      "user 300\n",
      "user 400\n",
      "user 500\n",
      "user 600\n",
      "user 700\n",
      "user 800\n"
     ]
    }
   ],
   "source": [
    "db = []\n",
    "print_counter = 0\n",
    "for user in users:\n",
    "    if print_counter % 100 == 0:\n",
    "        print('user', print_counter)\n",
    "    offset = 0\n",
    "    while True:\n",
    "        time.sleep(random.randint(0, 2))\n",
    "        response = session.get('https://api.briefly.co/v1/user/' + user + '/latest-activity?offset=' + str(offset) + '&limit=100')\n",
    "        try:\n",
    "            response.raise_for_status()\n",
    "        except requests.exceptions.HTTPError:\n",
    "            break\n",
    "        posts = response.json()\n",
    "        if len(posts) == 0:\n",
    "            break\n",
    "        for p in posts:\n",
    "            post = parse_post(user, p['post']['id'], p['post']['title'], p['highlights'])\n",
    "            if post != None:\n",
    "                db.append(post)\n",
    "        offset += len(posts)\n",
    "    print_counter += 1\n",
    "with open('briefly.json', 'w') as f:\n",
    "    json.dump(db, f)        "
   ]
  },
  {
   "cell_type": "code",
   "execution_count": 18,
   "metadata": {},
   "outputs": [
    {
     "data": {
      "text/plain": [
       "2273"
      ]
     },
     "execution_count": 18,
     "metadata": {},
     "output_type": "execute_result"
    }
   ],
   "source": [
    "len(db)"
   ]
  },
  {
   "cell_type": "code",
   "execution_count": null,
   "metadata": {},
   "outputs": [],
   "source": []
  }
 ],
 "metadata": {
  "kernelspec": {
   "display_name": "Python 3 (ipykernel)",
   "language": "python",
   "name": "python3"
  },
  "language_info": {
   "codemirror_mode": {
    "name": "ipython",
    "version": 3
   },
   "file_extension": ".py",
   "mimetype": "text/x-python",
   "name": "python",
   "nbconvert_exporter": "python",
   "pygments_lexer": "ipython3",
   "version": "3.7.3"
  }
 },
 "nbformat": 4,
 "nbformat_minor": 2
}
